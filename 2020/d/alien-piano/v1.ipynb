{
 "cells": [
  {
   "cell_type": "markdown",
   "metadata": {},
   "source": [
    "![Problem Statement](alien-piano.png)"
   ]
  },
  {
   "cell_type": "markdown",
   "metadata": {},
   "source": [
    "2\n",
    "5\n",
    "1 5 100 500 1\n",
    "8\n",
    "2 3 4 5 6 7 8 9"
   ]
  },
  {
   "cell_type": "code",
   "execution_count": 6,
   "metadata": {},
   "outputs": [
    {
     "name": "stdout",
     "output_type": "stream",
     "text": [
      "2\n",
      "5\n",
      "1 5 100 500 1\n",
      "Case #1: 0\n",
      "8\n",
      "2 3 4 5 6 7 8 9\n",
      "Case #2: 1\n"
     ]
    }
   ],
   "source": [
    "def printresult(order, result):\n",
    "    print(f\"Case #{order + 1}: {result}\")\n",
    "\n",
    "\n",
    "def readln():\n",
    "    return input().strip()\n",
    "\n",
    "\n",
    "def readint():\n",
    "    return int(input().strip())\n",
    "\n",
    "\n",
    "def readints():\n",
    "    return list(map(int, input().split()))\n",
    "\n",
    "\n",
    "def solve(order):\n",
    "    K = readint()\n",
    "    A = readints()\n",
    "    count = 0\n",
    "    counti = 0\n",
    "    countd = 0\n",
    "    for i in range(1, K):\n",
    "        if A[i-1] < A[i]:\n",
    "            counti += 1\n",
    "            countd = 0\n",
    "        elif A[i-1] > A[i]:\n",
    "            countd += 1\n",
    "            counti = 0\n",
    "            \n",
    "        if counti == 4 or countd == 4:\n",
    "            count += 1\n",
    "            counti = 0\n",
    "            countd = 0\n",
    "    printresult(order, count)\n",
    "\n",
    "\n",
    "if __name__ == \"__main__\":\n",
    "    T = readint()\n",
    "    for t in range(T):\n",
    "        solve(t)"
   ]
  },
  {
   "cell_type": "code",
   "execution_count": null,
   "metadata": {},
   "outputs": [],
   "source": []
  }
 ],
 "metadata": {
  "kernelspec": {
   "display_name": "Python 3",
   "language": "python",
   "name": "python3"
  },
  "language_info": {
   "codemirror_mode": {
    "name": "ipython",
    "version": 3
   },
   "file_extension": ".py",
   "mimetype": "text/x-python",
   "name": "python",
   "nbconvert_exporter": "python",
   "pygments_lexer": "ipython3",
   "version": "3.9.0"
  }
 },
 "nbformat": 4,
 "nbformat_minor": 2
}

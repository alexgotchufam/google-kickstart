{
 "cells": [
  {
   "cell_type": "markdown",
   "id": "ongoing-alpha",
   "metadata": {},
   "source": [
    "![Problem Statement](high-buildings.png)"
   ]
  },
  {
   "cell_type": "code",
   "execution_count": null,
   "id": "bottom-reward",
   "metadata": {},
   "outputs": [],
   "source": [
    "def printresult(order, result):\n",
    "    print(f\"Case #{order + 1}: {result}\")\n",
    "\n",
    "\n",
    "def readln():\n",
    "    return input().strip()\n",
    "\n",
    "\n",
    "def readint():\n",
    "    return int(input().strip())\n",
    "\n",
    "\n",
    "def readints():\n",
    "    return list(map(int, input().split()))\n",
    "\n",
    "\n",
    "def solve(order):\n",
    "    printresult(order, \"#TODO\")\n",
    "\n",
    "\n",
    "if __name__ == \"__main__\":\n",
    "    T = readint()\n",
    "    for t in range(T):\n",
    "        solve(t)\n"
   ]
  }
 ],
 "metadata": {
  "kernelspec": {
   "display_name": "Python 3",
   "language": "python",
   "name": "python3"
  },
  "language_info": {
   "codemirror_mode": {
    "name": "ipython",
    "version": 3
   },
   "file_extension": ".py",
   "mimetype": "text/x-python",
   "name": "python",
   "nbconvert_exporter": "python",
   "pygments_lexer": "ipython3",
   "version": "3.9.0"
  }
 },
 "nbformat": 4,
 "nbformat_minor": 5
}
